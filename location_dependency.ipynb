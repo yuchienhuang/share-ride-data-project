{
 "cells": [
  {
   "cell_type": "code",
   "execution_count": 9,
   "metadata": {},
   "outputs": [],
   "source": [
    "import dill\n",
    "import os\n",
    "import pandas as pd\n",
    "import geopandas as gp\n",
    "from shapely.geometry import Polygon, mapping, Point\n",
    "from matplotlib import pyplot as plt\n",
    "from smallest_circle import *"
   ]
  },
  {
   "cell_type": "code",
   "execution_count": 10,
   "metadata": {},
   "outputs": [],
   "source": [
    "class Scores:\n",
    "    pass\n",
    "class Circles:\n",
    "    pass"
   ]
  },
  {
   "cell_type": "code",
   "execution_count": 18,
   "metadata": {},
   "outputs": [],
   "source": [
    "for i in range(1,2):\n",
    "    directory = './day' + str(i) + '/'\n",
    "    c = Circles()\n",
    "    s = Scores()\n",
    "    count = 0\n",
    "    for filename in os.listdir(directory):\n",
    "        share, no_share, number, routes = dill.load(open(directory + filename, 'rb'))\n",
    "        if number > 1:\n",
    "            setattr(c, str(i) + 'c' + str(count), make_circle([point for _, _, point, _ in routes]))\n",
    "            setattr(s, str(i) + 's' + str(count), (no_share - share) / number)\n",
    "            count += 1\n",
    "    dill.dump(c, open('day' + str(i) + '_circle.pkd', 'wb'))\n",
    "    dill.dump(s, open('day' + str(i) + '_scores.pkd', 'wb'))"
   ]
  },
  {
   "cell_type": "code",
   "execution_count": 8,
   "metadata": {},
   "outputs": [],
   "source": [
    "geometry_df = gp.read_file('geo_export_af57ed2a-558b-46a2-9da6-2daa495b229d.shp')\n",
    "geometry_df = geometry_df.set_index('boro_name')\n",
    "nybb_path = gp.datasets.get_path('nybb')\n",
    "boros = gp.GeoDataFrame.from_file(nybb_path)\n",
    "boros = boros.to_crs({'init': 'epsg:4326'}) \n",
    "boros = boros.set_index('BoroName')\n",
    "Manhattan_geometry = boros['geometry']['Manhattan']\n",
    "simplified_Manhattan_geometry = Manhattan_geometry.simplify(0.004, preserve_topology=False)"
   ]
  },
  {
   "cell_type": "code",
   "execution_count": 19,
   "metadata": {},
   "outputs": [],
   "source": [
    "def plot_function(circle_dict, score_dict, sampling_number_in_Manhattan_geoemetry, plot_name):\n",
    "    \n",
    "\n",
    "# key_ls = list(zip(s.__dict__.keys(),c.__dict__.keys()))\n",
    "    key_ls = list(zip(score_dict.keys(), circle_dict.keys()))\n",
    "\n",
    "    def score_function(points):\n",
    "        x_coord = [0] * len(points)\n",
    "        y_coord = [0] * len(points)\n",
    "        score_ls = [0] * len(points)\n",
    "        for skey, ckey in key_ls:\n",
    "            _score_function = lambda point: s.__dict__[skey] if is_in_circle(c.__dict__[ckey],point) else 0\n",
    "            for i, point in enumerate(points):\n",
    "                score_ls[i] += _score_function(point)\n",
    "                x_coord[i], y_coord[i] = point\n",
    "        return score_ls, x_coord, y_coord\n",
    "\n",
    "    def random_points_in_polygon(number, polygon=simplified_Manhattan_geometry):\n",
    "        points = []\n",
    "        min_x, min_y, max_x, max_y = polygon.bounds\n",
    "        i= 0\n",
    "        while i < number:\n",
    "            point = Point(random.uniform(min_x, max_x), random.uniform(min_y, max_y))\n",
    "            if polygon.contains(point):\n",
    "                points.append(point)\n",
    "                i += 1\n",
    "        return points \n",
    "    \n",
    "    \n",
    "    random_point_list = random_points_in_polygon(sampling_number_in_Manhattan_geoemetry)\n",
    "    random_Point_list = [mapping(point)['coordinates'] for point in random_point_list]\n",
    "    scores, xcoords, ycoords = score_function(random_Point_list)\n",
    "    df = pd.DataFrame({'scores': scores, 'Longitude': xcoords, 'Latitude': ycoords})\n",
    "    gdf = gp.GeoDataFrame(df,  crs={'init': 'epsg:4326'}, geometry=gp.points_from_xy(df.Longitude, df.Latitude))\n",
    "    \n",
    "    fig, ax = plt.subplots()\n",
    "\n",
    "    gdf.plot(ax=ax, column='scores',legend=True, cmap='binary', alpha=0.5, markersize=10)\n",
    "    plt.xlabel('Longitude')\n",
    "    plt.ylabel('Latitude')\n",
    "    plt.savefig(plot_name)\n",
    "    return gdf\n",
    "    "
   ]
  },
  {
   "cell_type": "code",
   "execution_count": null,
   "metadata": {},
   "outputs": [],
   "source": [
    "gdf_list = []\n",
    "for day in range(1, 8):\n",
    "\n",
    "    c = dill.load(open('day' + str(day) + '_circle.pkd', 'rb'))\n",
    "    s = dill.load(open('day' + str(day) + '_scores.pkd', 'rb'))\n",
    "    \n",
    "    gdf_list.append(plot_function(c.__dict__, s.__dict__, 10000, 'day' + str(day) + '_location_dependency_plot'))\n",
    "    "
   ]
  },
  {
   "cell_type": "code",
   "execution_count": 28,
   "metadata": {},
   "outputs": [],
   "source": [
    "dill.dump(gdf_list, open('location_dependency_gdf_list', 'wb'))\n",
    "gdf = gp.GeoDataFrame(pd.concat(gdf_list, ignore_index=True))\n"
   ]
  },
  {
   "cell_type": "code",
   "execution_count": 34,
   "metadata": {},
   "outputs": [
    {
     "data": {
      "image/png": "[encoded data removed]",
      "text/plain": [
       "<Figure size 432x288 with 2 Axes>"
      ]
     },
     "metadata": {},
     "output_type": "display_data"
    }
   ],
   "source": [
    "fig, ax = plt.subplots()\n",
    "gdf.plot(ax=ax, column='scores',legend=True, cmap='binary', alpha=0.5, markersize=10)\n",
    "plt.xlabel('Longitude')\n",
    "plt.ylabel('Latitude')\n",
    "plt.savefig('Overall_ocation_dependency_plot')\n",
    "\n"
   ]
  }
 ],
 "metadata": {
  "kernelspec": {
   "display_name": "Python 3",
   "language": "python",
   "name": "python3"
  },
  "language_info": {
   "codemirror_mode": {
    "name": "ipython",
    "version": 3
   },
   "file_extension": ".py",
   "mimetype": "text/x-python",
   "name": "python",
   "nbconvert_exporter": "python",
   "pygments_lexer": "ipython3",
   "version": "3.6.2"
  }
 },
 "nbformat": 4,
 "nbformat_minor": 2
}
