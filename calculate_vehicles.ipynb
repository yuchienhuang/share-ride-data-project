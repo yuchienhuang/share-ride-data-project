{
 "cells": [
  {
   "cell_type": "code",
   "execution_count": 15,
   "metadata": {},
   "outputs": [],
   "source": [
    "from new_classes import *\n",
    "import numpy as np\n",
    "import pandas as pd\n",
    "import dill\n",
    "import os"
   ]
  },
  {
   "cell_type": "code",
   "execution_count": null,
   "metadata": {},
   "outputs": [],
   "source": [
    "for day in range(1, 8):\n",
    "    df = pd.DataFrame(np.load('day_'+str(day)+'.npy'), columns=['pickup_longitude', 'pickup_latitude', 'dropoff_longitude',\n",
    "           'dropoff_latitude', 'tpep_pickup_datetime', 'tpep_dropoff_datetime',\n",
    "           'passenger_count', 'fare_amount', 'trip_distance', 'day'],\n",
    "          dtype='object')\n",
    "\n",
    "    df_sorted = df.sort_values(by=['tpep_pickup_datetime']).set_index(np.arange(len(df)))\n",
    "\n",
    "    Map = gridMap()\n",
    "    ride_list = []\n",
    "    # effective_speed_list = []\n",
    "    for index, row in df_sorted.iterrows():\n",
    "        ride = Ride(*([index] + list(row.values) + [Map]))\n",
    "        if not (ride.ti >= ride.tf) and not (ride.xi == ride.xf).all():\n",
    "            ride_list.append(ride)\n",
    "    #         effective_speed_list.append(ride.effective_speed)\n",
    "\n",
    "    dill.dump(ride_list, open('day' + str(day) + '_ride_list.pkd', 'wb'))\n"
   ]
  },
  {
   "cell_type": "code",
   "execution_count": null,
   "metadata": {},
   "outputs": [],
   "source": [
    "for day in range(1,8):\n",
    "    filename = 'day' + str(day) + '_ride_list.pkd' \n",
    "    ride_list = dill.load(open(filename, 'rb'))\n",
    "    Map = gridMap()\n",
    "    for ride in ride_list:\n",
    "        ride.gridMap = Map\n",
    "    \n",
    "    Map.folder_name('./day' + str(day) + '/')\n",
    "    for ride in ride_list:\n",
    "        time = ride.ti\n",
    "        ride.request_vehicle()\n",
    "        ride.vehicle.update_vehicle(time)\n",
    "    Map.clean_map()"
   ]
  },
  {
   "cell_type": "code",
   "execution_count": null,
   "metadata": {},
   "outputs": [],
   "source": [
    "def efficiency_day(i):\n",
    "    ls = []\n",
    "    directory = './day' + str(i) + '/'\n",
    "    for filename in os.listdir(directory):\n",
    "        share, no_share, number, routes = dill.load(open(directory + filename, 'rb'))\n",
    "        ls.append([share, no_share, number])\n",
    "\n",
    "    df = pd.DataFrame(ls, columns=['share', 'no_share', 'number'])\n",
    "    df = df[df['number'] > 1]\n",
    "\n",
    "    no_share = df.no_share.values.sum()\n",
    "    share = df.share.values.sum()\n",
    "    number = df.number.sum()\n",
    "\n",
    "    return number, no_share, share, (no_share-share)/number\n"
   ]
  },
  {
   "cell_type": "code",
   "execution_count": null,
   "metadata": {},
   "outputs": [],
   "source": [
    "efficiency_list = []\n",
    "for i in range(1, 8):\n",
    "    efficiency_list.append(efficiency_day(i))"
   ]
  },
  {
   "cell_type": "code",
   "execution_count": null,
   "metadata": {},
   "outputs": [],
   "source": [
    "df = pd.DataFrame(efficiency_list, columns=['number', 'noshare', 'share', 'efficiency'])\n",
    "(df['noshare'].sum() - df['share'].sum())/df['number'].sum()"
   ]
  }
 ],
 "metadata": {
  "kernelspec": {
   "display_name": "Python 3",
   "language": "python",
   "name": "python3"
  },
  "language_info": {
   "codemirror_mode": {
    "name": "ipython",
    "version": 3
   },
   "file_extension": ".py",
   "mimetype": "text/x-python",
   "name": "python",
   "nbconvert_exporter": "python",
   "pygments_lexer": "ipython3",
   "version": "3.6.2"
  }
 },
 "nbformat": 4,
 "nbformat_minor": 2
}
